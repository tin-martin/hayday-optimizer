{
 "cells": [
  {
   "cell_type": "markdown",
   "id": "5a3739b3",
   "metadata": {},
   "source": []
  },
  {
   "cell_type": "markdown",
   "id": "eece8f00",
   "metadata": {},
   "source": [
    "Import the libraries"
   ]
  },
  {
   "cell_type": "code",
   "execution_count": 1,
   "id": "ca390557",
   "metadata": {},
   "outputs": [],
   "source": [
    "import collections\n",
    "from ortools.sat.python import cp_model"
   ]
  },
  {
   "cell_type": "markdown",
   "id": "4e6a4c5d",
   "metadata": {},
   "source": [
    "Define data for problem"
   ]
  },
  {
   "cell_type": "code",
   "execution_count": 2,
   "id": "4eb295af",
   "metadata": {},
   "outputs": [],
   "source": [
    "import json\n",
    "with open('hayday_goods.json','r') as file:\n",
    "    raw_data = json.load(file)\n",
    "\n",
    "with open('my_machines.json','r') as file:\n",
    "    my_machines = json.load(file)\n",
    "\n",
    "all_machines = []\n",
    "\n",
    "for item_name, details in raw_data.items():\n",
    "    if(details['machine'] not in all_machines):\n",
    "        all_machines.append(details['machine'])\n",
    "\n",
    "machines_count = len(all_machines)"
   ]
  },
  {
   "cell_type": "markdown",
   "id": "d2afddb2",
   "metadata": {},
   "source": [
    "declare the model"
   ]
  },
  {
   "cell_type": "code",
   "execution_count": 3,
   "id": "26b8d590",
   "metadata": {},
   "outputs": [],
   "source": [
    "model = cp_model.CpModel()"
   ]
  },
  {
   "cell_type": "markdown",
   "id": "82f5285c",
   "metadata": {},
   "source": [
    "Define the variables"
   ]
  },
  {
   "cell_type": "code",
   "execution_count": 4,
   "id": "4262e1f7",
   "metadata": {},
   "outputs": [],
   "source": [
    "goods_data = ['Hamburger']#martin\n",
    "\n",
    "task_type = collections.namedtuple(\"task_type\", \"start end interval machine\")\n",
    "\n",
    "all_tasks = {}\n",
    "machine_to_intervals = collections.defaultdict(list)\n",
    "\n",
    "queue = []\n",
    "horizon = 1000000                                                                            \n",
    "id = 0\n",
    "id_to_name = []\n",
    "id_to_machine = []\n",
    "for good in goods_data:\n",
    "    id_to_name.append(good)\n",
    "    queue.append((good, id,-1))\n",
    "    id += 1\n",
    "\n",
    "while len(queue) != 0:\n",
    "    current_name, current_id, parent_id = queue.pop(0)\n",
    "    start_var = model.new_int_var(0,horizon,\"start\"+str(current_id))\n",
    "    end_var = model.new_int_var(0,horizon,\"end\"+str(current_id))\n",
    "    interval_var = model.new_interval_var(\n",
    "        start_var, raw_data[current_name]['time'], end_var, \"interval\"+str(current_id)\n",
    "    )\n",
    "    machine_var = model.new_int_var(0,len(all_machines),\"machine\"+str(current_id))\n",
    "\n",
    "    presences = []\n",
    "    num_specific_my_machines = my_machines[raw_data[current_name]['machine']]['number']\n",
    "    for i in range(num_specific_my_machines):\n",
    "        l_start_var = model.new_int_var(0,horizon,\"l_start\"+ str(i)+str(current_id))\n",
    "        l_end_var = model.new_int_var(0,horizon,\"l_end\"+str(i)+str(current_id))\n",
    "        l_presence = model.new_bool_var(f\"l_presence_Field_{str(i)}_{str(current_id)}\")\n",
    "        l_interval_var = model.new_optional_interval_var(\n",
    "            l_start_var, raw_data[current_name]['time'], l_end_var, l_presence, \"interval\"+str(current_id)\n",
    "        )\n",
    "        model.Add(start_var == l_start_var).OnlyEnforceIf(l_presence)\n",
    "        model.Add(end_var == l_end_var).OnlyEnforceIf(l_presence)\n",
    "        model.Add(machine_var == i).OnlyEnforceIf(l_presence)\n",
    "        presences.append(l_presence)\n",
    "        machine_to_intervals[raw_data[current_name]['machine']+str(i)].append(l_interval_var)\n",
    "    model.add_exactly_one(presences)\n",
    "   \n",
    "     \n",
    "    all_tasks[current_id] = task_type(\n",
    "            start=start_var, end=end_var, interval=interval_var, machine = machine_var\n",
    "    )\n",
    "    if(parent_id != -1):\n",
    "        model.add(\n",
    "            all_tasks[parent_id].start >= all_tasks[current_id].end  \n",
    "        )\n",
    "\n",
    "    for ing, ing_qty in raw_data[current_name]['ingredients'].items():\n",
    "        if(ing == current_name):\n",
    "            break\n",
    "        else:\n",
    "            for i in range(ing_qty):\n",
    "                id_to_name.append(ing)\n",
    "                queue.append((ing, id, current_id))\n",
    "                id += 1\n",
    "                \n",
    "                \n"
   ]
  },
  {
   "cell_type": "markdown",
   "id": "7cd7fdae",
   "metadata": {},
   "source": [
    "Define the constraints"
   ]
  },
  {
   "cell_type": "code",
   "execution_count": 5,
   "id": "6657b6eb",
   "metadata": {},
   "outputs": [],
   "source": [
    "for machine in machine_to_intervals.keys():\n",
    "    model.add_no_overlap(machine_to_intervals[machine])"
   ]
  },
  {
   "cell_type": "markdown",
   "id": "3e62c676",
   "metadata": {},
   "source": [
    "Define the objective"
   ]
  },
  {
   "cell_type": "code",
   "execution_count": 6,
   "id": "5f548cd0",
   "metadata": {},
   "outputs": [],
   "source": [
    "obj_var = model.new_int_var(0, horizon, \"makespan\")\n",
    "\n",
    "model.add_max_equality(\n",
    "    obj_var,\n",
    "    [all_tasks[i].end for i in range(id)],\n",
    ")\n",
    "\n",
    "model.minimize(obj_var)"
   ]
  },
  {
   "cell_type": "markdown",
   "id": "1f8eeb02",
   "metadata": {},
   "source": [
    "invoke solver"
   ]
  },
  {
   "cell_type": "code",
   "execution_count": 9,
   "id": "ac4a87cc",
   "metadata": {},
   "outputs": [
    {
     "name": "stdout",
     "output_type": "stream",
     "text": [
      "640\n"
     ]
    }
   ],
   "source": [
    "solver = cp_model.CpSolver()\n",
    "status = solver.solve(model)\n",
    "print(solver.Value(obj_var))"
   ]
  },
  {
   "cell_type": "markdown",
   "id": "3810a07f",
   "metadata": {},
   "source": [
    "display results"
   ]
  },
  {
   "cell_type": "code",
   "execution_count": 8,
   "id": "44bb4ad8",
   "metadata": {},
   "outputs": [
    {
     "data": {
      "image/png": "[encoded data removed]",
      "text/plain": [
       "<Figure size 2000x600 with 1 Axes>"
      ]
     },
     "metadata": {},
     "output_type": "display_data"
    }
   ],
   "source": [
    "import matplotlib.pyplot as plt\n",
    "from matplotlib.patches import Patch\n",
    "\n",
    "if status == cp_model.OPTIMAL or status == cp_model.FEASIBLE:\n",
    "    # Collect schedule data for plotting\n",
    "    schedule_data = []\n",
    "    for i in range(id):\n",
    "        start = solver.Value(all_tasks[i].start)\n",
    "        end = solver.Value(all_tasks[i].end)\n",
    "        machine = raw_data[id_to_name[i]]['machine']+ str(solver.Value(all_tasks[i].machine))\n",
    "        schedule_data.append((id_to_name[i], start, end, machine))\n",
    "\n",
    "    # Build Gantt chart\n",
    "    scale = 5  # Scale factor for time units\n",
    "    fig, ax = plt.subplots(figsize=(20, 6))  # Wider figure for visibility\n",
    "\n",
    "    # Unique machine list and positions\n",
    "    machines = sorted(set(item[3] for item in schedule_data))\n",
    "    y_positions = {machine: idx for idx, machine in enumerate(machines)}\n",
    "\n",
    "    # Assign colors by task name\n",
    "    colors = {}\n",
    "    for idx, (task_name, _, _, _) in enumerate(schedule_data):\n",
    "        if task_name not in colors:\n",
    "            colors[task_name] = plt.cm.tab20(len(colors) % 20)\n",
    "\n",
    "    # Draw bars with scaling\n",
    "    for task_name, start, end, machine in schedule_data:\n",
    "        ax.barh(\n",
    "            y_positions[machine],\n",
    "            (end - start) * scale,\n",
    "            left=start * scale,\n",
    "            color=colors[task_name],\n",
    "            edgecolor='black'\n",
    "        )\n",
    "        \"\"\"ax.text(\n",
    "            ((start + end) / 2) * scale,\n",
    "            y_positions[machine],\n",
    "            task_name,\n",
    "            ha='center',\n",
    "            va='center',\n",
    "            fontsize=8,\n",
    "            color='white'\n",
    "        )\"\"\"\n",
    "\n",
    "    # Create legend\n",
    "    legend_elements = [Patch(facecolor=color, edgecolor='black', label=task)\n",
    "                       for task, color in colors.items()]\n",
    "    ax.legend(handles=legend_elements, title=\"Tasks\", bbox_to_anchor=(1.05, 1), loc='upper left')\n",
    "\n",
    "    # Format chart\n",
    "    ax.set_yticks(range(len(machines)))\n",
    "    ax.set_yticklabels(machines)\n",
    "    ax.set_xlabel(f\"Time\")\n",
    "    ax.set_ylabel(\"Machine\")\n",
    "    ax.set_title(\"Optimized Schedule Gantt Chart\")\n",
    "    plt.tight_layout()\n",
    "    plt.show()\n"
   ]
  }
 ],
 "metadata": {
  "kernelspec": {
   "display_name": "Python 3",
   "language": "python",
   "name": "python3"
  },
  "language_info": {
   "codemirror_mode": {
    "name": "ipython",
    "version": 3
   },
   "file_extension": ".py",
   "mimetype": "text/x-python",
   "name": "python",
   "nbconvert_exporter": "python",
   "pygments_lexer": "ipython3",
   "version": "3.9.6"
  }
 },
 "nbformat": 4,
 "nbformat_minor": 5
}
