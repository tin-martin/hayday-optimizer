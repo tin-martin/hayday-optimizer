{
 "cells": [
  {
   "cell_type": "markdown",
   "id": "5a3739b3",
   "metadata": {},
   "source": []
  },
  {
   "cell_type": "markdown",
   "id": "eece8f00",
   "metadata": {},
   "source": [
    "Import the libraries"
   ]
  },
  {
   "cell_type": "code",
   "execution_count": 1,
   "id": "ca390557",
   "metadata": {},
   "outputs": [],
   "source": [
    "import collections\n",
    "from ortools.sat.python import cp_model\n",
    "import math"
   ]
  },
  {
   "cell_type": "markdown",
   "id": "4e6a4c5d",
   "metadata": {},
   "source": [
    "Define data for problem"
   ]
  },
  {
   "cell_type": "code",
   "execution_count": 2,
   "id": "4eb295af",
   "metadata": {},
   "outputs": [],
   "source": [
    "import json\n",
    "with open('hayday_goods.json','r') as file:\n",
    "    raw_data = json.load(file)\n",
    "\n",
    "with open('my_machines.json','r') as file:\n",
    "    my_machines = json.load(file)\n",
    "\n",
    "with open('my_goods.json','r') as file:\n",
    "    my_goods = json.load(file)\n",
    "\n",
    "all_machines = []\n",
    "\n",
    "for item_name, details in raw_data.items():\n",
    "    if(details['machine'] not in all_machines):\n",
    "        all_machines.append(details['machine'])\n",
    "\n",
    "machines_count = len(all_machines)"
   ]
  },
  {
   "cell_type": "markdown",
   "id": "d2afddb2",
   "metadata": {},
   "source": [
    "declare the model"
   ]
  },
  {
   "cell_type": "code",
   "execution_count": 3,
   "id": "26b8d590",
   "metadata": {},
   "outputs": [],
   "source": [
    "model = cp_model.CpModel()"
   ]
  },
  {
   "cell_type": "markdown",
   "id": "82f5285c",
   "metadata": {},
   "source": [
    "Define the variables"
   ]
  },
  {
   "cell_type": "code",
   "execution_count": null,
   "id": "4262e1f7",
   "metadata": {},
   "outputs": [
    {
     "name": "stdout",
     "output_type": "stream",
     "text": [
      "2\n",
      "1\n"
     ]
    }
   ],
   "source": [
    "class Task:\n",
    "    def __init__(self,id, name, start, end, machine, presence, l_presence, parent):\n",
    "        self.id = id\n",
    "        self.name = name\n",
    "        self.start = start\n",
    "        self.end = end\n",
    "        self.machine = machine\n",
    "        self.presence = presence\n",
    "        self.l_presence = l_presence\n",
    "        self.parent = parent\n",
    "\n",
    "goods_data = ['Bacon']\n",
    "\n",
    "machine_to_intervals = collections.defaultdict(list)\n",
    "good_to_presence = collections.defaultdict(list)\n",
    "\n",
    "queue = []\n",
    "horizon = 1000                                                                           \n",
    "id = 0\n",
    "all_tasks = []\n",
    "\n",
    "for good in goods_data:\n",
    "    queue.append((good, id,-1))\n",
    "    id += 1\n",
    "\n",
    "while len(queue) != 0:\n",
    "    current_name, current_id, parent_id = queue.pop(0)\n",
    "    start_var = model.new_int_var(0,horizon,\"start\"+str(current_id))\n",
    "    end_var = model.new_int_var(0,horizon,\"end\"+str(current_id))\n",
    " \n",
    "    presence_var = model.new_bool_var(f\"presence{current_id}\")\n",
    "    interval_var = model.new_optional_interval_var(\n",
    "        start_var, raw_data[current_name]['time'], end_var, presence_var, \"interval\"+str(current_id)\n",
    "    )\n",
    "    machine_var = model.new_int_var(0,len(all_machines),\"machine\"+str(current_id))\n",
    "    \n",
    "    l_presences = []\n",
    "    num_specific_my_machines = my_machines[raw_data[current_name]['machine']]['number']\n",
    "    for i in range(num_specific_my_machines):\n",
    "        l_start_var = model.new_int_var(0,horizon,\"l_start\"+ str(i)+str(current_id))\n",
    "        l_end_var = model.new_int_var(0,horizon,\"l_end\"+str(i)+str(current_id))\n",
    "        l_presence = model.new_bool_var(f\"l_presence_Field_{str(i)}_{str(current_id)}\")\n",
    "        l_interval_var = model.new_optional_interval_var(\n",
    "            l_start_var, raw_data[current_name]['time'], l_end_var, l_presence, \"interval\"+str(current_id)\n",
    "        )\n",
    "        \n",
    "        model.Add(start_var == l_start_var).OnlyEnforceIf(l_presence)\n",
    "        model.Add(end_var == l_end_var).OnlyEnforceIf(l_presence)\n",
    "        model.Add(machine_var == i).OnlyEnforceIf(l_presence)\n",
    "        l_presences.append(l_presence)\n",
    "        machine_to_intervals[raw_data[current_name]['machine']+str(i)].append(l_interval_var)\n",
    "    model.add_exactly_one(l_presences)\n",
    "    good_to_presence[current_name].append(presence_var)\n",
    "\n",
    "    all_tasks.append(Task(id,current_name,start_var,end_var,machine_var, presence_var,l_presences,parent_id))\n",
    "\n",
    "     \n",
    "\n",
    "    if(parent_id != -1):\n",
    "        model.add(\n",
    "\n",
    "            all_tasks[parent_id].start >= all_tasks[current_id].end\n",
    "        ).OnlyEnforceIf(presence_var)\n",
    "        #id_to_parent.append(parent_id)\n",
    "        parent_presence = all_tasks[all_tasks[current_id].parent].presence   \n",
    "       # model.AddImplication(parent_presence.Not(), presence_var.Not())#martin\n",
    "    \n",
    "\n",
    "    for ing, ing_qty in raw_data[current_name]['ingredients'].items():\n",
    "        if(ing == current_name):\n",
    "            break\n",
    "        else:\n",
    "            for i in range(ing_qty):\n",
    "                queue.append((ing, id, current_id))\n",
    "                id += 1\n",
    "                \n",
    "\n",
    "for good in good_to_presence.keys():\n",
    "    if(good in my_goods):\n",
    "        model.Add(sum(good_to_presence[good]) >= max(len(good_to_presence[good]) - int(my_goods[good]['number']),0))\n",
    "    else:\n",
    "        print(len(good_to_presence[good]) )\n",
    "        model.Add(sum(good_to_presence[good]) >= len(good_to_presence[good]) )\n"
   ]
  },
  {
   "cell_type": "markdown",
   "id": "7cd7fdae",
   "metadata": {},
   "source": [
    "Define the constraints"
   ]
  },
  {
   "cell_type": "code",
   "execution_count": null,
   "id": "6657b6eb",
   "metadata": {},
   "outputs": [],
   "source": [
    "import re\n",
    "\n",
    "def get_trailing_number(s):\n",
    "    match = re.search(r'\\d+$', s)\n",
    "    if match:\n",
    "        return int(match.group(0)) # Convert the matched string to an integer\n",
    "    else:\n",
    "        return None\n",
    "\n",
    "for machine in machine_to_intervals.keys():\n",
    "    model.add_no_overlap(machine_to_intervals[machine])\n",
    "\n",
    "for machine in machine_to_intervals.keys():\n",
    "\n",
    "    intervals = machine_to_intervals[machine]\n",
    "\n",
    "    for i in intervals:\n",
    "        for j in intervals:\n",
    "            if(i != j):\n",
    "                id_i = int(i.Name()[len(\"interval\"):])\n",
    "                id_j = int(j.Name()[len(\"interval\"):])\n",
    "\n",
    "                good_i = all_tasks[id_i].name\n",
    "                good_j = all_tasks[id_j].name\n",
    "\n",
    "                presence_i = all_tasks[id_i].presence\n",
    "                presence_j = all_tasks[id_j].presence\n",
    "               \n",
    "               \n",
    "                a =  model.NewBoolVar('a')\n",
    "                model.add(all_tasks[id_j].start >= all_tasks[id_i].end).OnlyEnforceIf(a)\n",
    "                model.add(all_tasks[id_j].start < all_tasks[id_i].end).OnlyEnforceIf(a.Not())\n",
    "                b = model.NewBoolVar('b')\n",
    "                model.add(all_tasks[id_i].start >= all_tasks[id_j].end).OnlyEnforceIf(b)\n",
    "                model.add(all_tasks[id_i].start < all_tasks[id_j].end).OnlyEnforceIf(b.Not())\n",
    "                \n",
    "                model.AddBoolOr(a,b).OnlyEnforceIf(presence_i, presence_j, all_tasks[id_i].l_presence[get_trailing_number(machine)],all_tasks[id_j].l_presence[get_trailing_number(machine)])"
   ]
  },
  {
   "cell_type": "markdown",
   "id": "b971ab7e",
   "metadata": {},
   "source": []
  },
  {
   "cell_type": "markdown",
   "id": "3e62c676",
   "metadata": {},
   "source": [
    "Define the objective"
   ]
  },
  {
   "cell_type": "code",
   "execution_count": null,
   "id": "5f548cd0",
   "metadata": {},
   "outputs": [],
   "source": [
    "obj_var = model.new_int_var(0, horizon, \"makespan\")\n",
    "\n",
    "cand_ends = []\n",
    "for i in range(id):\n",
    "    # 1) create a candidate‑end var that will be either end_i or 0\n",
    "    c = model.NewIntVar(0, horizon, f\"cand_end_{i}\")\n",
    "    # if task i is present → candidate == real end\n",
    "   \n",
    "    model.Add(c == all_tasks[i].end).OnlyEnforceIf(all_tasks[i].presence)\n",
    "    # if task i is absent  → candidate == 0 (or any safe lower bound)\n",
    "    model.Add(c == 0).OnlyEnforceIf(all_tasks[i].presence.Not())\n",
    "    cand_ends.append(c)\n",
    "\n",
    "# 2) now max over those “masked” ends\n",
    "model.AddMaxEquality(obj_var, cand_ends)\n",
    "model.minimize(obj_var)"
   ]
  },
  {
   "cell_type": "markdown",
   "id": "1f8eeb02",
   "metadata": {},
   "source": [
    "invoke solver"
   ]
  },
  {
   "cell_type": "code",
   "execution_count": 8,
   "id": "ac4a87cc",
   "metadata": {},
   "outputs": [
    {
     "name": "stdout",
     "output_type": "stream",
     "text": [
      "40\n"
     ]
    }
   ],
   "source": [
    "solver = cp_model.CpSolver()\n",
    "\n",
    "  \n",
    "status = solver.solve(model)\n",
    "print(solver.Value(obj_var))\n"
   ]
  },
  {
   "cell_type": "markdown",
   "id": "3810a07f",
   "metadata": {},
   "source": [
    "display results"
   ]
  },
  {
   "cell_type": "code",
   "execution_count": 10,
   "id": "44bb4ad8",
   "metadata": {},
   "outputs": [
    {
     "data": {
      "image/png": "[encoded data removed]",
      "text/plain": [
       "<Figure size 2000x600 with 1 Axes>"
      ]
     },
     "metadata": {},
     "output_type": "display_data"
    }
   ],
   "source": [
    "import matplotlib.pyplot as plt\n",
    "from matplotlib.patches import Patch\n",
    "\n",
    "if status == cp_model.OPTIMAL or status == cp_model.FEASIBLE:\n",
    "    # Collect schedule data for plotting\n",
    "    schedule_data = []\n",
    "    for i in range(id):\n",
    "        if(solver.Value(all_tasks[i].presence)):\n",
    "            start = solver.Value(all_tasks[i].start)\n",
    "            end = solver.Value(all_tasks[i].end)\n",
    "            machine = raw_data[all_tasks[i].name]['machine']+ str(solver.Value(all_tasks[i].machine))\n",
    "            schedule_data.append((all_tasks[i].name, start, end, machine))\n",
    "     \n",
    "    fig, ax = plt.subplots(figsize=(20, 6))  # Wider figure for visibility\n",
    "\n",
    "    # Unique machine list and positions\n",
    "    machines = sorted(set(item[3] for item in schedule_data))\n",
    "    y_positions = {machine: idx for idx, machine in enumerate(machines)}\n",
    "\n",
    "    # Assign colors by task name\n",
    "    colors = {}\n",
    "    for idx, (task_name, _, _, _) in enumerate(schedule_data):\n",
    "        if task_name not in colors:\n",
    "            colors[task_name] = plt.cm.tab20(len(colors) % 20)\n",
    "\n",
    "    # Draw bars with scaling\n",
    "    for task_name, start, end, machine in schedule_data:\n",
    "        \n",
    "        ax.barh(\n",
    "            y_positions[machine],\n",
    "            (end - start),\n",
    "            left=start,\n",
    "            color=colors[task_name],\n",
    "            edgecolor='black'\n",
    "        )\n",
    "\n",
    "    # Create legend\n",
    "    legend_elements = [Patch(facecolor=color, edgecolor='black', label=task)\n",
    "                       for task, color in colors.items()]\n",
    "    ax.legend(handles=legend_elements, title=\"Tasks\", bbox_to_anchor=(1.05, 1), loc='upper left')\n",
    "\n",
    "    # Format chart\n",
    "    ax.set_yticks(range(len(machines)))\n",
    "    ax.set_yticklabels(machines)\n",
    "    ax.set_xlabel(f\"Time\")\n",
    "    ax.set_ylabel(\"Machine\")\n",
    "    ax.set_title(\"Optimized Schedule Gantt Chart\")\n",
    "    plt.tight_layout()\n",
    "    plt.show()\n",
    "else:\n",
    "    print(\"fuck\")\n"
   ]
  }
 ],
 "metadata": {
  "kernelspec": {
   "display_name": "Python 3",
   "language": "python",
   "name": "python3"
  },
  "language_info": {
   "codemirror_mode": {
    "name": "ipython",
    "version": 3
   },
   "file_extension": ".py",
   "mimetype": "text/x-python",
   "name": "python",
   "nbconvert_exporter": "python",
   "pygments_lexer": "ipython3",
   "version": "3.9.6"
  }
 },
 "nbformat": 4,
 "nbformat_minor": 5
}
