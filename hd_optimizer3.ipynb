{
 "cells": [
  {
   "cell_type": "markdown",
   "id": "5a3739b3",
   "metadata": {},
   "source": []
  },
  {
   "cell_type": "markdown",
   "id": "eece8f00",
   "metadata": {},
   "source": [
    "Import the libraries"
   ]
  },
  {
   "cell_type": "code",
   "execution_count": 321,
   "id": "ca390557",
   "metadata": {},
   "outputs": [],
   "source": [
    "import collections\n",
    "from ortools.sat.python import cp_model\n",
    "import math"
   ]
  },
  {
   "cell_type": "markdown",
   "id": "4e6a4c5d",
   "metadata": {},
   "source": [
    "Define data for problem"
   ]
  },
  {
   "cell_type": "code",
   "execution_count": 322,
   "id": "4eb295af",
   "metadata": {},
   "outputs": [],
   "source": [
    "import json\n",
    "with open('/Users/martintin/Desktop/hayday/hayday_goods_with_storage.json','r') as file:\n",
    "    raw_data = json.load(file)\n",
    "\n",
    "with open('my_machines.json','r') as file:\n",
    "    my_machines = json.load(file)\n",
    "\n",
    "with open('my_goods.json','r') as file:\n",
    "    my_goods = json.load(file)\n",
    "\n",
    "with open('my_storage.json','r') as file:\n",
    "    my_storage = json.load(file)\n",
    "\n",
    "BARN_CAPACITY= my_storage['Barn']\n",
    "SILO_CAPACITY = my_storage['Silo']\n",
    "\n",
    "all_machines = []\n",
    "\n",
    "for item_name, details in raw_data.items():\n",
    "    if(details['machine'] not in all_machines):\n",
    "        all_machines.append(details['machine'])\n",
    "\n",
    "machines_count = len(all_machines)"
   ]
  },
  {
   "cell_type": "markdown",
   "id": "d2afddb2",
   "metadata": {},
   "source": [
    "declare the model"
   ]
  },
  {
   "cell_type": "code",
   "execution_count": 323,
   "id": "26b8d590",
   "metadata": {},
   "outputs": [],
   "source": [
    "model = cp_model.CpModel()"
   ]
  },
  {
   "cell_type": "code",
   "execution_count": 324,
   "id": "79f28b3f",
   "metadata": {},
   "outputs": [],
   "source": [
    "class Task:\n",
    "    def __init__(self,id, name, start, end, machine, l_presences, parent):\n",
    "        self.id = id\n",
    "        self.name = name\n",
    "        self.start = start\n",
    "        self.end = end\n",
    "        self.machine = machine\n",
    "        self.l_presences = l_presences\n",
    "        self.parent = parent\n",
    "        self.children = []\n",
    "        self.is_active = model.new_bool_var(\"is_active\"+str(id))\n",
    "        self.removed_explicit = model.new_bool_var(\"removed\"+str(id))\n",
    "        \n",
    "\n",
    "goods_data = ['Diamond ring']#martin\n",
    "\n",
    "machine_to_intervals = collections.defaultdict(list)\n",
    "\n",
    "\n",
    "\n",
    "horizon = 10000                                                                           \n",
    "id = 0\n",
    "queue = []\n",
    "all_tasks = []"
   ]
  },
  {
   "cell_type": "markdown",
   "id": "82f5285c",
   "metadata": {},
   "source": [
    "Define the variables"
   ]
  },
  {
   "cell_type": "code",
   "execution_count": 325,
   "id": "4262e1f7",
   "metadata": {},
   "outputs": [
    {
     "name": "stdout",
     "output_type": "stream",
     "text": [
      "Diamond ring\n",
      "{'ingredients': {'Diamond': 1, 'Gold bar': 2, 'Platinum bar': 2}, 'time': 240, 'xp': 98, 'machine': 'Jeweler', 'storage': 'barn'}\n",
      "Diamond\n",
      "{'ingredients': {}, 'time': 0, 'xp': 0, 'machine': '', 'storage': 'silo'}\n"
     ]
    },
    {
     "ename": "KeyError",
     "evalue": "''",
     "output_type": "error",
     "traceback": [
      "\u001b[0;31m---------------------------------------------------------------------------\u001b[0m",
      "\u001b[0;31mKeyError\u001b[0m                                  Traceback (most recent call last)",
      "Cell \u001b[0;32mIn[325], line 18\u001b[0m\n\u001b[1;32m     15\u001b[0m machine_var \u001b[38;5;241m=\u001b[39m model\u001b[38;5;241m.\u001b[39mnew_int_var(\u001b[38;5;241m0\u001b[39m,\u001b[38;5;28mlen\u001b[39m(all_machines),\u001b[38;5;124m\"\u001b[39m\u001b[38;5;124mmachine\u001b[39m\u001b[38;5;124m\"\u001b[39m\u001b[38;5;241m+\u001b[39m\u001b[38;5;28mstr\u001b[39m(current_id))\n\u001b[1;32m     17\u001b[0m l_presences \u001b[38;5;241m=\u001b[39m []\n\u001b[0;32m---> 18\u001b[0m num_specific_my_machines \u001b[38;5;241m=\u001b[39m \u001b[43mmy_machines\u001b[49m\u001b[43m[\u001b[49m\u001b[43mraw_data\u001b[49m\u001b[43m[\u001b[49m\u001b[43mcurrent_name\u001b[49m\u001b[43m]\u001b[49m\u001b[43m[\u001b[49m\u001b[38;5;124;43m'\u001b[39;49m\u001b[38;5;124;43mmachine\u001b[39;49m\u001b[38;5;124;43m'\u001b[39;49m\u001b[43m]\u001b[49m\u001b[43m]\u001b[49m[\u001b[38;5;124m'\u001b[39m\u001b[38;5;124mnumber\u001b[39m\u001b[38;5;124m'\u001b[39m]\n\u001b[1;32m     19\u001b[0m \u001b[38;5;28;01mfor\u001b[39;00m i \u001b[38;5;129;01min\u001b[39;00m \u001b[38;5;28mrange\u001b[39m(num_specific_my_machines):\n\u001b[1;32m     20\u001b[0m     l_start_var \u001b[38;5;241m=\u001b[39m model\u001b[38;5;241m.\u001b[39mnew_int_var(\u001b[38;5;241m0\u001b[39m,horizon,\u001b[38;5;124m\"\u001b[39m\u001b[38;5;124ml_start\u001b[39m\u001b[38;5;124m\"\u001b[39m\u001b[38;5;241m+\u001b[39m \u001b[38;5;28mstr\u001b[39m(i)\u001b[38;5;241m+\u001b[39m\u001b[38;5;28mstr\u001b[39m(current_id))\n",
      "\u001b[0;31mKeyError\u001b[0m: ''"
     ]
    }
   ],
   "source": [
    "\n",
    "for good in goods_data:\n",
    "    queue.append((good, id,-1))\n",
    "    id += 1\n",
    "\n",
    "while len(queue) != 0:\n",
    "    current_name, current_id, parent_id = queue.pop(0)\n",
    "    print(current_name)\n",
    "    print(raw_data[current_name])\n",
    "    start_var = model.new_int_var(0,horizon,\"start\"+str(current_id))\n",
    "    end_var = model.new_int_var(0,horizon,\"end\"+str(current_id))\n",
    "   \n",
    "    interval_var = model.new_interval_var(\n",
    "        start_var, raw_data[current_name]['time'], end_var, \"interval\"+str(current_id)\n",
    "    )\n",
    "    machine_var = model.new_int_var(0,len(all_machines),\"machine\"+str(current_id))\n",
    "    \n",
    "    l_presences = []\n",
    "    num_specific_my_machines = my_machines[raw_data[current_name]['machine']]['number']\n",
    "    for i in range(num_specific_my_machines):\n",
    "        l_start_var = model.new_int_var(0,horizon,\"l_start\"+ str(i)+str(current_id))\n",
    "        l_end_var = model.new_int_var(0,horizon,\"l_end\"+str(i)+str(current_id))\n",
    "        l_presence_var = model.new_bool_var(f\"l_presence{str(i)}_{str(current_id)}\")\n",
    "        l_interval_var = model.new_optional_interval_var(\n",
    "            l_start_var, raw_data[current_name]['time'], l_end_var, l_presence_var, \"interval\"+str(current_id)\n",
    "        )\n",
    "        \n",
    "        model.Add(start_var == l_start_var).OnlyEnforceIf(l_presence_var)\n",
    "        model.Add(end_var == l_end_var).OnlyEnforceIf(l_presence_var)\n",
    "        model.Add(machine_var == i).OnlyEnforceIf(l_presence_var)\n",
    "        l_presences.append(l_presence_var)\n",
    "        machine_to_intervals[raw_data[current_name]['machine']+str(i)].append(l_interval_var)\n",
    "    model.add_exactly_one(l_presences)\n",
    "\n",
    "    t = Task(id,current_name,start_var,end_var,machine_var,l_presences,parent_id)\n",
    "    all_tasks.append(t)\n",
    "    if(parent_id != -1):\n",
    "        all_tasks[parent_id].children.append(t)\n",
    "        model.add(\n",
    "            all_tasks[parent_id].start >= all_tasks[current_id].end\n",
    "        ).only_enforce_if(all_tasks[parent_id].is_active, all_tasks[current_id].is_active)\n",
    "        model.add_implication(all_tasks[parent_id].is_active.Not(),all_tasks[current_id].is_active.Not())\n",
    "        model.add_bool_and(\n",
    "            all_tasks[current_id].is_active.Not(),\n",
    "            all_tasks[parent_id].is_active\n",
    "        ).OnlyEnforceIf(all_tasks[current_id].removed_explicit)\n",
    "\n",
    "        model.add_bool_or(\n",
    "            all_tasks[current_id].is_active,\n",
    "            all_tasks[parent_id].is_active.Not()\n",
    "        ).OnlyEnforceIf(all_tasks[current_id].removed_explicit.Not())\n",
    "    else:\n",
    "        model.add(all_tasks[current_id].removed_explicit == all_tasks[current_id].is_active.Not())\n",
    "\n",
    "    \n",
    "    \n",
    "    for ing, ing_qty in raw_data[current_name]['ingredients'].items():\n",
    "        if(ing != current_name):\n",
    "            temp = []\n",
    "            for i in range(ing_qty):\n",
    "                queue.append((ing, id, current_id))\n",
    "                id += 1\n",
    "                \n"
   ]
  },
  {
   "cell_type": "markdown",
   "id": "7cd7fdae",
   "metadata": {},
   "source": [
    "Define the constraints"
   ]
  },
  {
   "cell_type": "code",
   "execution_count": null,
   "id": "6657b6eb",
   "metadata": {},
   "outputs": [
    {
     "name": "stdout",
     "output_type": "stream",
     "text": [
      "0\n",
      "1\n",
      "fuck 3\n"
     ]
    }
   ],
   "source": [
    "for task in all_tasks:\n",
    "        temp_arr = []\n",
    "        inactive_parents = []\n",
    "        for t in all_tasks:\n",
    "            if(t.name == task.name):\n",
    "                temp_arr.append(t.removed_explicit)\n",
    "                inactive_parents.append(all_tasks[t.parent].is_active.Not())\n",
    "        if(task.name in my_goods):\n",
    "            if(int(my_goods[task.name]['number']) > 0):\n",
    "                num_of_inactive_parents = sum(inactive_parents)\n",
    "                min_var = model.NewIntVar(0, 10000, 'min_var')\n",
    "                if(task.parent != -1):\n",
    "                    model.AddMinEquality(min_var, [len(temp_arr)-num_of_inactive_parents, my_goods[task.name]['number']])\n",
    "                else:\n",
    "                    model.AddMinEquality(min_var, [len(temp_arr), my_goods[task.name]['number']])\n",
    "\n",
    "                model.Add(sum(temp_arr) == min_var)\n",
    "            else:\n",
    "                model.Add(sum(temp_arr) == 0)\n",
    "        else:\n",
    "            model.Add(sum(temp_arr) == 0)\n",
    "    \n",
    "\n",
    "import re\n",
    "\n",
    "def get_trailing_number(s):\n",
    "    match = re.search(r'\\d+$', s)\n",
    "    if match:\n",
    "        return int(match.group(0)) \n",
    "    else:\n",
    "        return None\n",
    "\n",
    "for machine in machine_to_intervals.keys():\n",
    "    model.add_no_overlap(machine_to_intervals[machine])\n",
    "\n",
    "for machine in machine_to_intervals.keys():\n",
    "    intervals = machine_to_intervals[machine]\n",
    "    for i in intervals:\n",
    "        for j in intervals:\n",
    "            if(i != j):\n",
    "                id_i = int(i.Name()[len(\"interval\"):])\n",
    "                id_j = int(j.Name()[len(\"interval\"):])\n",
    "\n",
    "                good_i = all_tasks[id_i].name\n",
    "                good_j = all_tasks[id_j].name\n",
    "\n",
    "                a =  model.NewBoolVar('a')\n",
    "                model.add(all_tasks[id_j].start >= all_tasks[id_i].end).OnlyEnforceIf(a)\n",
    "                model.add(all_tasks[id_j].start < all_tasks[id_i].end).OnlyEnforceIf(a.Not())\n",
    "                \n",
    "                b = model.NewBoolVar('b')\n",
    "                model.add(all_tasks[id_i].start >= all_tasks[id_j].end).OnlyEnforceIf(b)\n",
    "                model.add(all_tasks[id_i].start < all_tasks[id_j].end).OnlyEnforceIf(b.Not())\n",
    "                \n",
    "                model.AddBoolOr(a,b).OnlyEnforceIf(all_tasks[id_i].l_presences[get_trailing_number(machine)],all_tasks[id_j].l_presences[get_trailing_number(machine)])\n",
    "\n",
    "times = []\n",
    "for task in all_tasks:\n",
    "    times.append(task.end)\n",
    "\n",
    "storage = []\n",
    "\n",
    "#is_completed[time index][silo, barn][task index]\n",
    "\n",
    "#sum(storage[time index][0])\n",
    "\n",
    "\n",
    "initial_silo_storage = 0\n",
    "initial_barn_storage = 0 \n",
    "\n",
    "initial_silo_storage_used = []\n",
    "initial_barn_storage_used = []\n",
    "\n",
    "sum(item[\"number\"] for item in my_goods.values())\n",
    "for good in my_goods:\n",
    "    if(raw_data[good]['storage'] == \"barn\"):\n",
    "        initial_barn_storage += my_goods[good]['number']\n",
    "    elif(raw_data[good]['storage'] == 'silo'):\n",
    "        initial_silo_storage += my_goods[good]['number']\n",
    "print(initial_barn_storage)\n",
    "print(initial_silo_storage)\n",
    "for i in range(len(times)):\n",
    "    silo_temp_arr = []\n",
    "    barn_temp_arr = []\n",
    "    \n",
    "    for j in range(len(all_tasks)):\n",
    "        temp = model.NewBoolVar(str(i)+\"_\"+str(j))\n",
    "        # 1. Create a boolean variable for the parent task ending on time\n",
    "        end_on_time = model.NewBoolVar(f'end_on_time_{i}_{j}')\n",
    "        model.add(all_tasks[j].end <= times[i]).OnlyEnforceIf(end_on_time)\n",
    "        model.add(all_tasks[j].end > times[i]).OnlyEnforceIf(end_on_time.Not())\n",
    "\n",
    "        #if parent != -1, if removed_explict and parent start time is less than times[i] then add 1 to initial_storage_used\n",
    "        if(len(raw_data[all_tasks[j].name]['ingredients']) == 0 ):\n",
    "            model.add(all_tasks[j].removed_explicit == 1)\n",
    "            \n",
    "        if(all_tasks[j].parent != -1):\n",
    "            parent_not_started = model.NewBoolVar(f'parent_not_started_{i}_{j}')\n",
    "            model.add(all_tasks[all_tasks[j].parent].start >= times[i]).OnlyEnforceIf(parent_not_started)\n",
    "            model.add(all_tasks[all_tasks[j].parent].start < times[i]).OnlyEnforceIf(parent_not_started.Not())\n",
    "\n",
    "            model.AddBoolAnd([parent_not_started, end_on_time]).OnlyEnforceIf(temp)\n",
    "            model.AddBoolOr([parent_not_started.Not(), end_on_time.Not()]).OnlyEnforceIf(temp.Not())\n",
    "\n",
    "            a = model.NewBoolVar('arent_not_started_{i}_{j}')\n",
    "\n",
    "            model.AddBoolAnd([all_tasks[j].removed_explicit,parent_not_started.Not()]).OnlyEnforceIf(a)\n",
    "            model.AddBoolOr([all_tasks[j].removed_explicit.Not(),parent_not_started]).OnlyEnforceIf(a.Not())\n",
    "\n",
    "            if(raw_data[all_tasks[j].name]['storage'] == \"barn\"):\n",
    "                initial_barn_storage_used.append(a)\n",
    "            elif(raw_data[all_tasks[j].name]['storage']  == \"silo\"):\n",
    "                initial_silo_storage_used.append(a)\n",
    "\n",
    "        else:\n",
    "            temp = end_on_time\n",
    "\n",
    "        if(raw_data[all_tasks[j].name]['storage'] == \"barn\"):\n",
    "            barn_temp_arr.append(temp)\n",
    "        elif(raw_data[all_tasks[j].name]['storage']  == \"silo\"):\n",
    "            silo_temp_arr.append(temp)\n",
    "\n",
    "    if barn_temp_arr:\n",
    "        model.Add(sum(barn_temp_arr) + initial_barn_storage - sum(initial_barn_storage_used) <= BARN_CAPACITY)\n",
    "    if silo_temp_arr:\n",
    "        model.Add(sum(silo_temp_arr) + initial_silo_storage - sum(initial_silo_storage_used)  <= SILO_CAPACITY)\n",
    "\n",
    "    storage.append([silo_temp_arr, barn_temp_arr])\n",
    "\n"
   ]
  },
  {
   "cell_type": "markdown",
   "id": "3e62c676",
   "metadata": {},
   "source": [
    "Define the objective"
   ]
  },
  {
   "cell_type": "code",
   "execution_count": null,
   "id": "5f548cd0",
   "metadata": {},
   "outputs": [],
   "source": [
    "\n",
    "obj_var = model.new_int_var(0, horizon, \"makespan\")\n",
    "\n",
    "cand_ends = []\n",
    "for i in range(id):\n",
    "        c = model.NewIntVar(0, horizon, f\"cand_end_{i}\") \n",
    "        model.Add(c == 0).only_enforce_if(all_tasks[i].is_active.Not())\n",
    "        model.Add(c == all_tasks[i].end).only_enforce_if(all_tasks[i].is_active)\n",
    "        cand_ends.append(c)\n",
    "\n",
    "# 2) now max over those “masked” ends\n",
    "model.AddMaxEquality(obj_var, cand_ends)\n",
    "model.minimize(obj_var)"
   ]
  },
  {
   "cell_type": "markdown",
   "id": "1f8eeb02",
   "metadata": {},
   "source": [
    "Invoke solver"
   ]
  },
  {
   "cell_type": "code",
   "execution_count": null,
   "id": "ac4a87cc",
   "metadata": {},
   "outputs": [
    {
     "name": "stdout",
     "output_type": "stream",
     "text": [
      "2040\n"
     ]
    }
   ],
   "source": [
    "solver = cp_model.CpSolver()\n",
    "\n",
    "  \n",
    "status = solver.solve(model)\n",
    "\n",
    "print(solver.Value(obj_var))\n"
   ]
  },
  {
   "cell_type": "markdown",
   "id": "3810a07f",
   "metadata": {},
   "source": [
    "Display results"
   ]
  },
  {
   "cell_type": "code",
   "execution_count": null,
   "id": "44bb4ad8",
   "metadata": {},
   "outputs": [
    {
     "name": "stdout",
     "output_type": "stream",
     "text": [
      "2040 0 1\n"
     ]
    },
    {
     "data": {
      "image/png": "[encoded data removed]",
      "text/plain": [
       "<Figure size 2000x600 with 1 Axes>"
      ]
     },
     "metadata": {},
     "output_type": "display_data"
    }
   ],
   "source": [
    "import matplotlib.pyplot as plt\n",
    "from matplotlib.patches import Patch\n",
    "\n",
    "if status == cp_model.OPTIMAL or status == cp_model.FEASIBLE:\n",
    "    # Collect schedule data for plotting\n",
    "    for i in range(len(times)):\n",
    "        barn_arr = []\n",
    "        silo_arr = []\n",
    "        for j in storage[i][0]:\n",
    "            silo_arr.append(solver.Value(j))\n",
    "        for j in storage[i][1]:\n",
    "            barn_arr.append(solver.Value(j))\n",
    "        print(str(solver.Value(times[i])),    str(  sum(silo_arr)    )     ,str(  sum(barn_arr)    )       )\n",
    "     \n",
    "    schedule_data = []\n",
    "    for i in range(id):\n",
    "        if(solver.Value(all_tasks[i].is_active)):\n",
    "            start = solver.Value(all_tasks[i].start)\n",
    "            end = solver.Value(all_tasks[i].end)\n",
    "            machine = raw_data[all_tasks[i].name]['machine']+ str(solver.Value(all_tasks[i].machine))\n",
    "            schedule_data.append((all_tasks[i].name, start, end, machine))\n",
    "     \n",
    "    fig, ax = plt.subplots(figsize=(20, 6))  # Wider figure for visibility\n",
    "\n",
    "    # Unique machine list and positions\n",
    "    machines = sorted(set(item[3] for item in schedule_data))\n",
    "    y_positions = {machine: idx for idx, machine in enumerate(machines)}\n",
    "\n",
    "    # Assign colors by task name\n",
    "    colors = {}\n",
    "    for idx, (task_name, _, _, _) in enumerate(schedule_data):\n",
    "        if task_name not in colors:\n",
    "            colors[task_name] = plt.cm.tab20(len(colors) % 20)\n",
    "\n",
    "    # Draw bars with scaling\n",
    "    for task_name, start, end, machine in schedule_data:\n",
    "        ax.barh(\n",
    "            y_positions[machine],\n",
    "            (end - start),\n",
    "            left=start,\n",
    "            color=colors[task_name],\n",
    "            edgecolor='black'\n",
    "        )\n",
    "\n",
    "    # Create legend\n",
    "    legend_elements = [Patch(facecolor=color, edgecolor='black', label=task)\n",
    "                       for task, color in colors.items()]\n",
    "    ax.legend(handles=legend_elements, title=\"Tasks\", bbox_to_anchor=(1.05, 1), loc='upper left')\n",
    "\n",
    "    # Format chart\n",
    "    ax.set_yticks(range(len(machines)))\n",
    "    ax.set_yticklabels(machines)\n",
    "    ax.set_xlabel(f\"Time\")\n",
    "    ax.set_ylabel(\"Machine\")\n",
    "    ax.set_title(\"Optimized Schedule Gantt Chart\")\n",
    "    plt.tight_layout()\n",
    "    plt.show()\n",
    "else:\n",
    "    print(\"frick\")\n"
   ]
  },
  {
   "cell_type": "code",
   "execution_count": null,
   "id": "d2cabf19",
   "metadata": {},
   "outputs": [
    {
     "name": "stdout",
     "output_type": "stream",
     "text": [
      "Defaulting to user installation because normal site-packages is not writeable\n",
      "Requirement already satisfied: streamlit in /Users/martintin/Library/Python/3.9/lib/python/site-packages (1.48.0)\n",
      "Requirement already satisfied: altair!=5.4.0,!=5.4.1,<6,>=4.0 in /Users/martintin/Library/Python/3.9/lib/python/site-packages (from streamlit) (5.5.0)\n",
      "Requirement already satisfied: blinker<2,>=1.5.0 in /Users/martintin/Library/Python/3.9/lib/python/site-packages (from streamlit) (1.9.0)\n",
      "Requirement already satisfied: cachetools<7,>=4.0 in /Users/martintin/Library/Python/3.9/lib/python/site-packages (from streamlit) (6.1.0)\n",
      "Requirement already satisfied: click<9,>=7.0 in /Users/martintin/Library/Python/3.9/lib/python/site-packages (from streamlit) (8.1.8)\n",
      "Requirement already satisfied: numpy<3,>=1.23 in /Users/martintin/Library/Python/3.9/lib/python/site-packages (from streamlit) (2.0.2)\n",
      "Requirement already satisfied: packaging<26,>=20 in /Users/martintin/Library/Python/3.9/lib/python/site-packages (from streamlit) (25.0)\n",
      "Requirement already satisfied: pandas<3,>=1.4.0 in /Users/martintin/Library/Python/3.9/lib/python/site-packages (from streamlit) (2.3.1)\n",
      "Requirement already satisfied: pillow<12,>=7.1.0 in /Users/martintin/Library/Python/3.9/lib/python/site-packages (from streamlit) (11.3.0)\n",
      "Requirement already satisfied: protobuf<7,>=3.20 in /Users/martintin/Library/Python/3.9/lib/python/site-packages (from streamlit) (6.31.1)\n",
      "Requirement already satisfied: pyarrow>=7.0 in /Users/martintin/Library/Python/3.9/lib/python/site-packages (from streamlit) (21.0.0)\n",
      "Requirement already satisfied: requests<3,>=2.27 in /Users/martintin/Library/Python/3.9/lib/python/site-packages (from streamlit) (2.32.4)\n",
      "Requirement already satisfied: tenacity<10,>=8.1.0 in /Users/martintin/Library/Python/3.9/lib/python/site-packages (from streamlit) (9.1.2)\n",
      "Requirement already satisfied: toml<2,>=0.10.1 in /Users/martintin/Library/Python/3.9/lib/python/site-packages (from streamlit) (0.10.2)\n",
      "Requirement already satisfied: typing-extensions<5,>=4.4.0 in /Users/martintin/Library/Python/3.9/lib/python/site-packages (from streamlit) (4.14.0)\n",
      "Requirement already satisfied: gitpython!=3.1.19,<4,>=3.0.7 in /Users/martintin/Library/Python/3.9/lib/python/site-packages (from streamlit) (3.1.45)\n",
      "Requirement already satisfied: pydeck<1,>=0.8.0b4 in /Users/martintin/Library/Python/3.9/lib/python/site-packages (from streamlit) (0.9.1)\n",
      "Requirement already satisfied: tornado!=6.5.0,<7,>=6.0.3 in /Users/martintin/Library/Python/3.9/lib/python/site-packages (from streamlit) (6.5.1)\n",
      "Requirement already satisfied: jinja2 in /Users/martintin/Library/Python/3.9/lib/python/site-packages (from altair!=5.4.0,!=5.4.1,<6,>=4.0->streamlit) (3.1.6)\n",
      "Requirement already satisfied: jsonschema>=3.0 in /Users/martintin/Library/Python/3.9/lib/python/site-packages (from altair!=5.4.0,!=5.4.1,<6,>=4.0->streamlit) (4.24.0)\n",
      "Requirement already satisfied: narwhals>=1.14.2 in /Users/martintin/Library/Python/3.9/lib/python/site-packages (from altair!=5.4.0,!=5.4.1,<6,>=4.0->streamlit) (2.0.1)\n",
      "Requirement already satisfied: gitdb<5,>=4.0.1 in /Users/martintin/Library/Python/3.9/lib/python/site-packages (from gitpython!=3.1.19,<4,>=3.0.7->streamlit) (4.0.12)\n",
      "Requirement already satisfied: smmap<6,>=3.0.1 in /Users/martintin/Library/Python/3.9/lib/python/site-packages (from gitdb<5,>=4.0.1->gitpython!=3.1.19,<4,>=3.0.7->streamlit) (5.0.2)\n",
      "Requirement already satisfied: python-dateutil>=2.8.2 in /Users/martintin/Library/Python/3.9/lib/python/site-packages (from pandas<3,>=1.4.0->streamlit) (2.9.0.post0)\n",
      "Requirement already satisfied: pytz>=2020.1 in /Users/martintin/Library/Python/3.9/lib/python/site-packages (from pandas<3,>=1.4.0->streamlit) (2025.2)\n",
      "Requirement already satisfied: tzdata>=2022.7 in /Users/martintin/Library/Python/3.9/lib/python/site-packages (from pandas<3,>=1.4.0->streamlit) (2025.2)\n",
      "Requirement already satisfied: charset_normalizer<4,>=2 in /Users/martintin/Library/Python/3.9/lib/python/site-packages (from requests<3,>=2.27->streamlit) (3.4.2)\n",
      "Requirement already satisfied: idna<4,>=2.5 in /Users/martintin/Library/Python/3.9/lib/python/site-packages (from requests<3,>=2.27->streamlit) (3.10)\n",
      "Requirement already satisfied: urllib3<3,>=1.21.1 in /Users/martintin/Library/Python/3.9/lib/python/site-packages (from requests<3,>=2.27->streamlit) (2.5.0)\n",
      "Requirement already satisfied: certifi>=2017.4.17 in /Users/martintin/Library/Python/3.9/lib/python/site-packages (from requests<3,>=2.27->streamlit) (2025.6.15)\n",
      "Requirement already satisfied: MarkupSafe>=2.0 in /Users/martintin/Library/Python/3.9/lib/python/site-packages (from jinja2->altair!=5.4.0,!=5.4.1,<6,>=4.0->streamlit) (3.0.2)\n",
      "Requirement already satisfied: attrs>=22.2.0 in /Users/martintin/Library/Python/3.9/lib/python/site-packages (from jsonschema>=3.0->altair!=5.4.0,!=5.4.1,<6,>=4.0->streamlit) (25.3.0)\n",
      "Requirement already satisfied: jsonschema-specifications>=2023.03.6 in /Users/martintin/Library/Python/3.9/lib/python/site-packages (from jsonschema>=3.0->altair!=5.4.0,!=5.4.1,<6,>=4.0->streamlit) (2025.4.1)\n",
      "Requirement already satisfied: referencing>=0.28.4 in /Users/martintin/Library/Python/3.9/lib/python/site-packages (from jsonschema>=3.0->altair!=5.4.0,!=5.4.1,<6,>=4.0->streamlit) (0.36.2)\n",
      "Requirement already satisfied: rpds-py>=0.7.1 in /Users/martintin/Library/Python/3.9/lib/python/site-packages (from jsonschema>=3.0->altair!=5.4.0,!=5.4.1,<6,>=4.0->streamlit) (0.26.0)\n",
      "Requirement already satisfied: six>=1.5 in /Library/Developer/CommandLineTools/Library/Frameworks/Python3.framework/Versions/3.9/lib/python3.9/site-packages (from python-dateutil>=2.8.2->pandas<3,>=1.4.0->streamlit) (1.15.0)\n",
      "\n",
      "\u001b[1m[\u001b[0m\u001b[34;49mnotice\u001b[0m\u001b[1;39;49m]\u001b[0m\u001b[39;49m A new release of pip is available: \u001b[0m\u001b[31;49m25.1.1\u001b[0m\u001b[39;49m -> \u001b[0m\u001b[32;49m25.2\u001b[0m\n",
      "\u001b[1m[\u001b[0m\u001b[34;49mnotice\u001b[0m\u001b[1;39;49m]\u001b[0m\u001b[39;49m To update, run: \u001b[0m\u001b[32;49m/Library/Developer/CommandLineTools/usr/bin/python3 -m pip install --upgrade pip\u001b[0m\n"
     ]
    },
    {
     "name": "stderr",
     "output_type": "stream",
     "text": [
      "2025-08-07 22:15:00.196 Thread 'MainThread': missing ScriptRunContext! This warning can be ignored when running in bare mode.\n",
      "2025-08-07 22:15:00.196 Thread 'MainThread': missing ScriptRunContext! This warning can be ignored when running in bare mode.\n",
      "2025-08-07 22:15:00.197 Thread 'MainThread': missing ScriptRunContext! This warning can be ignored when running in bare mode.\n",
      "2025-08-07 22:15:00.197 Thread 'MainThread': missing ScriptRunContext! This warning can be ignored when running in bare mode.\n",
      "2025-08-07 22:15:00.201 Thread 'MainThread': missing ScriptRunContext! This warning can be ignored when running in bare mode.\n",
      "2025-08-07 22:15:00.201 Thread 'MainThread': missing ScriptRunContext! This warning can be ignored when running in bare mode.\n",
      "2025-08-07 22:15:00.202 Thread 'MainThread': missing ScriptRunContext! This warning can be ignored when running in bare mode.\n",
      "2025-08-07 22:15:00.287 Thread 'MainThread': missing ScriptRunContext! This warning can be ignored when running in bare mode.\n",
      "2025-08-07 22:15:00.424 Thread 'MainThread': missing ScriptRunContext! This warning can be ignored when running in bare mode.\n",
      "2025-08-07 22:15:00.424 Thread 'MainThread': missing ScriptRunContext! This warning can be ignored when running in bare mode.\n",
      "2025-08-07 22:15:00.425 Thread 'MainThread': missing ScriptRunContext! This warning can be ignored when running in bare mode.\n"
     ]
    }
   ],
   "source": []
  }
 ],
 "metadata": {
  "kernelspec": {
   "display_name": "Python 3",
   "language": "python",
   "name": "python3"
  },
  "language_info": {
   "codemirror_mode": {
    "name": "ipython",
    "version": 3
   },
   "file_extension": ".py",
   "mimetype": "text/x-python",
   "name": "python",
   "nbconvert_exporter": "python",
   "pygments_lexer": "ipython3",
   "version": "3.9.6"
  }
 },
 "nbformat": 4,
 "nbformat_minor": 5
}
